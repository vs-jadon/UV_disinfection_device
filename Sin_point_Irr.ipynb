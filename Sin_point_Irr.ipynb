{
 "cells": [
  {
   "cell_type": "code",
   "execution_count": 1,
   "id": "95db8e1a",
   "metadata": {},
   "outputs": [],
   "source": [
    "import math\n",
    "\n"
   ]
  },
  {
   "cell_type": "code",
   "execution_count": 28,
   "id": "6321bc9a",
   "metadata": {},
   "outputs": [
    {
     "name": "stdout",
     "output_type": "stream",
     "text": [
      "Distance of point on X axis (Height), a:6\n",
      "Distance of point on Y axis, w: 14\n",
      "Distance of point on Z axis, h:11\n",
      "4.0\n",
      "Alpha 0.0 Beta 75.93319346462368\n",
      "W 0.0 F 3.1222235626301824\n",
      "Q 3.1222235626301824\n",
      "Irradiation is 0.043215823620793216\n"
     ]
    }
   ],
   "source": [
    "# len - Length of Tube\n",
    "# pow - power of UV tube in watts\n",
    "X0 = 6\n",
    "Z0 = 15\n",
    "Y0 = 14\n",
    "Y1 = 30\n",
    "lg = 16\n",
    "p = 35\n",
    "\n",
    "# Input Variables:\n",
    "# a - Distance of point, at which irradiance is need to calculated, on\n",
    "#     X axis\n",
    "# w - Distance of point, at which irradiance is need to calculated, on\n",
    "#     Y axis\n",
    "# h - Distance of point, at which irradiance is need to calculated, on\n",
    "#     Z axis\n",
    "\n",
    "a = float(input(\"Distance of point on X axis (Height), a:\"))\n",
    "w = float(input(\"Distance of point on Y axis, w: \"))\n",
    "h = float(input(\"Distance of point on Z axis, h:\"))\n",
    "\n",
    "# Defining 'r' which is perpendicular distance between irradiance point and tube.\n",
    "\n",
    "r = math.sqrt(((X0 - a)**2)+((Z0 - h)**2))\n",
    "print(r)\n",
    "\n",
    "# Calculation of alpha and beta angle to calculate irradiance.\n",
    "# ap (alpha) - angle between line, made by irradiance point  and End 1 of tube and 'r'\n",
    "# bt (beta) -  angle between line, made by irradiance point  and End 2 of tube and 'r'\n",
    "\n",
    "ap = math.atan((Y0 - w) / r) \n",
    "bt = math.atan((Y1 - w) / r)\n",
    "\n",
    "print(\"Alpha\",ap * 180/(22/7),\"Beta\",bt*180/(22/7))\n",
    "#math.atan() function calculates angle in radians\n",
    "\n",
    "#Calculation of 'I' Irradiance using line source model\n",
    "W =(2*ap)+(math.sin(2*ap))\n",
    "F =((2*bt)+(math.sin(2*bt)))\n",
    "print(\"W\", W, \"F\",F)\n",
    "Q = (F -W)\n",
    "print(\"Q\",Q)\n",
    "\n",
    "I = (((p/(4*((22/7)**2)*(r)*lg))*Q))\n",
    "print(\"Irradiation is\",I)\n"
   ]
  },
  {
   "cell_type": "markdown",
   "id": "4ceaf25d",
   "metadata": {},
   "source": [
    "##### "
   ]
  },
  {
   "cell_type": "markdown",
   "id": "ff295ca4",
   "metadata": {},
   "source": [
    "#### "
   ]
  }
 ],
 "metadata": {
  "kernelspec": {
   "display_name": "Python 3 (ipykernel)",
   "language": "python",
   "name": "python3"
  },
  "language_info": {
   "codemirror_mode": {
    "name": "ipython",
    "version": 3
   },
   "file_extension": ".py",
   "mimetype": "text/x-python",
   "name": "python",
   "nbconvert_exporter": "python",
   "pygments_lexer": "ipython3",
   "version": "3.10.0"
  }
 },
 "nbformat": 4,
 "nbformat_minor": 5
}
