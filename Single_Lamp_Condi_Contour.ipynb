{
 "cells": [
  {
   "cell_type": "code",
   "execution_count": 1,
   "id": "eadea05b",
   "metadata": {},
   "outputs": [],
   "source": [
    "import matplotlib.pyplot as plt\n",
    "import numpy as np\n",
    "import math"
   ]
  },
  {
   "cell_type": "code",
   "execution_count": 2,
   "id": "197ea7e3",
   "metadata": {},
   "outputs": [],
   "source": [
    "Ya = 89\n",
    "Yb = 211\n",
    "x = 150\n",
    "z = 5\n",
    "lg = 122\n",
    "p = 75\n",
    "\n",
    "I0 = p / (lg * (22 / 7) ** 2)\n",
    "R =[]\n",
    "\n",
    "X = np.linspace(0,300,300)\n",
    "Y = np.linspace(0,300,300)\n",
    "#always keep interpolation start + stop + 1 (if includes both positive and negative numbers) + 1, so to prevent 'r == 0' conditions\n",
    "#Keep interpolation formula fix as it gives the constant plot.. \n",
    "X,Y = np.meshgrid(X,Y)\n"
   ]
  },
  {
   "cell_type": "code",
   "execution_count": 4,
   "id": "3f2326f3",
   "metadata": {},
   "outputs": [
    {
     "ename": "ValueError",
     "evalue": "The truth value of an array with more than one element is ambiguous. Use a.any() or a.all()",
     "output_type": "error",
     "traceback": [
      "\u001b[1;31m---------------------------------------------------------------------------\u001b[0m",
      "\u001b[1;31mValueError\u001b[0m                                Traceback (most recent call last)",
      "\u001b[1;32m~\\AppData\\Local\\Temp/ipykernel_316/3651742406.py\u001b[0m in \u001b[0;36m<module>\u001b[1;34m\u001b[0m\n\u001b[0;32m     19\u001b[0m         \u001b[1;32mreturn\u001b[0m\u001b[1;33m(\u001b[0m\u001b[0mE\u001b[0m\u001b[1;33m)\u001b[0m\u001b[1;33m\u001b[0m\u001b[1;33m\u001b[0m\u001b[0m\n\u001b[0;32m     20\u001b[0m \u001b[1;33m\u001b[0m\u001b[0m\n\u001b[1;32m---> 21\u001b[1;33m \u001b[0mZZ\u001b[0m \u001b[1;33m=\u001b[0m \u001b[0mf\u001b[0m\u001b[1;33m(\u001b[0m\u001b[0mX\u001b[0m\u001b[1;33m,\u001b[0m\u001b[0mY\u001b[0m\u001b[1;33m,\u001b[0m\u001b[1;36m5\u001b[0m\u001b[1;33m)\u001b[0m\u001b[1;33m\u001b[0m\u001b[1;33m\u001b[0m\u001b[0m\n\u001b[0m\u001b[0;32m     22\u001b[0m \u001b[0mZZ\u001b[0m \u001b[1;33m=\u001b[0m \u001b[0mZZ\u001b[0m\u001b[1;33m*\u001b[0m\u001b[1;36m1000\u001b[0m\u001b[1;33m\u001b[0m\u001b[1;33m\u001b[0m\u001b[0m\n",
      "\u001b[1;32m~\\AppData\\Local\\Temp/ipykernel_316/3651742406.py\u001b[0m in \u001b[0;36mf\u001b[1;34m(A, W, H)\u001b[0m\n\u001b[0;32m      4\u001b[0m         \u001b[0mR\u001b[0m\u001b[1;33m.\u001b[0m\u001b[0mappend\u001b[0m\u001b[1;33m(\u001b[0m\u001b[1;33m(\u001b[0m\u001b[0mr\u001b[0m\u001b[1;33m)\u001b[0m\u001b[1;33m)\u001b[0m\u001b[1;33m\u001b[0m\u001b[1;33m\u001b[0m\u001b[0m\n\u001b[0;32m      5\u001b[0m \u001b[1;33m\u001b[0m\u001b[0m\n\u001b[1;32m----> 6\u001b[1;33m         \u001b[1;32mif\u001b[0m \u001b[1;33m(\u001b[0m\u001b[0mW\u001b[0m\u001b[1;33m<\u001b[0m\u001b[1;36m12\u001b[0m\u001b[1;33m)\u001b[0m\u001b[1;33m:\u001b[0m\u001b[1;33m\u001b[0m\u001b[1;33m\u001b[0m\u001b[0m\n\u001b[0m\u001b[0;32m      7\u001b[0m             \u001b[0map\u001b[0m \u001b[1;33m=\u001b[0m \u001b[0mnp\u001b[0m\u001b[1;33m.\u001b[0m\u001b[0marctan\u001b[0m\u001b[1;33m(\u001b[0m\u001b[1;33m(\u001b[0m\u001b[0mabs\u001b[0m\u001b[1;33m(\u001b[0m\u001b[0mYa\u001b[0m \u001b[1;33m-\u001b[0m \u001b[0mW\u001b[0m\u001b[1;33m)\u001b[0m\u001b[1;33m)\u001b[0m \u001b[1;33m/\u001b[0m \u001b[0mr\u001b[0m\u001b[1;33m)\u001b[0m\u001b[1;33m\u001b[0m\u001b[1;33m\u001b[0m\u001b[0m\n\u001b[0;32m      8\u001b[0m             \u001b[0mbt\u001b[0m \u001b[1;33m=\u001b[0m \u001b[0mnp\u001b[0m\u001b[1;33m.\u001b[0m\u001b[0marctan\u001b[0m\u001b[1;33m(\u001b[0m\u001b[1;33m(\u001b[0m\u001b[0mabs\u001b[0m\u001b[1;33m(\u001b[0m\u001b[0mYb\u001b[0m \u001b[1;33m-\u001b[0m \u001b[0mW\u001b[0m\u001b[1;33m)\u001b[0m\u001b[1;33m)\u001b[0m \u001b[1;33m/\u001b[0m \u001b[0mr\u001b[0m\u001b[1;33m)\u001b[0m\u001b[1;33m\u001b[0m\u001b[1;33m\u001b[0m\u001b[0m\n",
      "\u001b[1;31mValueError\u001b[0m: The truth value of an array with more than one element is ambiguous. Use a.any() or a.all()"
     ]
    }
   ],
   "source": [
    "# Defining Function for calculation of Irradiance \n",
    "def f(A,W,H):\n",
    "        r = (np.sqrt(((x-A) ** 2) + ((z-H) ** 2)))\n",
    "        R.append((r))\n",
    "        \n",
    "        if (W<12):\n",
    "            ap = np.arctan((abs(Ya - W)) / r)\n",
    "            bt = np.arctan((abs(Yb - W)) / r)\n",
    "           \n",
    "    \n",
    "       \n",
    "        \n",
    "        \n",
    "        Obt = (np.sin(2 * bt))\n",
    "        Pap = np.sin(2 * ap)\n",
    "        OP = Pap - Obt\n",
    "        AA = 2 * (ap - bt) + OP\n",
    "        E = (I0 / (4 * r)) * AA\n",
    "        return(E)\n",
    "\n",
    "ZZ = f(X,Y,5)\n",
    "ZZ = ZZ*1000"
   ]
  },
  {
   "cell_type": "code",
   "execution_count": 19,
   "id": "4a66b55a",
   "metadata": {},
   "outputs": [],
   "source": [
    "# ZZ[(((X==0)|(X>0)) & ((X==3)|(X<3))) | (((Y==0)|(Y>0)) & ((Y==3)|(Y<3))) | (X>28) | (Y>40.5)  ] = 0  \n",
    "# ZZ\n",
    "# (((Z==0)|(Z>0)) & ((Z==3)|(Z<3)))\n",
    "\n",
    "# converting np array to list\n",
    "ZZ[ZZ>3]= 2"
   ]
  },
  {
   "cell_type": "code",
   "execution_count": 20,
   "id": "d95c000a",
   "metadata": {},
   "outputs": [
    {
     "data": {
      "image/png": "[encoded data removed]",
      "text/plain": [
       "<Figure size 432x288 with 2 Axes>"
      ]
     },
     "metadata": {
      "needs_background": "light"
     },
     "output_type": "display_data"
    }
   ],
   "source": [
    "# Below part defines the figure size and adds the color bar\n",
    "# fig, ax = plt.subplots(figsize=(8,6))\n",
    "plt.contourf(X,Y,ZZ)\n",
    "# cf = ax.contourf(x,z,ZZ)\n",
    "# fig.colorbar(cf, ax=ax)\n",
    "\n",
    "clb = plt.colorbar(spacing='proportional', cmap='red')\n",
    "clb.set_label(\"\\nIrradiance (W⋅cm^-2)\")\n",
    "# plt.clim(0,0.1)\n",
    "# clb.ax.set_title('This is a title')\n",
    "\n",
    "plt.title(\"Irradiance Plot: Top View\\n\")\n",
    "plt.xlabel(\"\\nX axis (cm)\")\n",
    "plt.ylabel(\"Y axis (cm)\")\n",
    "plt.show()"
   ]
  },
  {
   "cell_type": "code",
   "execution_count": 6,
   "id": "f2c96d7b",
   "metadata": {},
   "outputs": [],
   "source": [
    "# np.set_printoptions(threshold=np.inf)\n",
    "# ZZ"
   ]
  },
  {
   "cell_type": "code",
   "execution_count": 7,
   "id": "5c007b58",
   "metadata": {},
   "outputs": [
    {
     "data": {
      "image/png": "[encoded data removed]",
      "text/plain": [
       "<Figure size 432x288 with 1 Axes>"
      ]
     },
     "metadata": {
      "needs_background": "light"
     },
     "output_type": "display_data"
    }
   ],
   "source": [
    "Y = bi = [0,0.2,0.4,0.6,0.8,1.0,1.2,1.4,1.6, 7]\n",
    "plt.hist(ZZ,Y,histtype='bar',rwidth=0.7,label=\"Test\")\n",
    "plt.title(\"Histogram\")\n",
    "plt.xlabel(\"Irradiance Values\")\n",
    "plt.ylabel(\"No. of values\")\n",
    "plt.legend()\n",
    "plt.grid(False)\n",
    "plt.show()"
   ]
  },
  {
   "cell_type": "code",
   "execution_count": 8,
   "id": "821eb309",
   "metadata": {},
   "outputs": [],
   "source": [
    "a = []\n",
    "b = []\n",
    "c = []\n",
    "for i in X:\n",
    "    a.append(i)\n",
    "for j in Y:\n",
    "    b.append(j)\n",
    "for z in ZZ:\n",
    "    c.append(z)\n"
   ]
  },
  {
   "cell_type": "code",
   "execution_count": null,
   "id": "eb9eff52",
   "metadata": {},
   "outputs": [],
   "source": []
  },
  {
   "cell_type": "code",
   "execution_count": 9,
   "id": "b87f3f41",
   "metadata": {},
   "outputs": [
    {
     "data": {
      "text/plain": [
       "'3.10.0'"
      ]
     },
     "execution_count": 9,
     "metadata": {},
     "output_type": "execute_result"
    }
   ],
   "source": [
    "from platform import python_version\n",
    "python_version()"
   ]
  },
  {
   "cell_type": "code",
   "execution_count": null,
   "id": "4cead4ea",
   "metadata": {},
   "outputs": [],
   "source": []
  }
 ],
 "metadata": {
  "kernelspec": {
   "display_name": "Python 3 (ipykernel)",
   "language": "python",
   "name": "python3"
  },
  "language_info": {
   "codemirror_mode": {
    "name": "ipython",
    "version": 3
   },
   "file_extension": ".py",
   "mimetype": "text/x-python",
   "name": "python",
   "nbconvert_exporter": "python",
   "pygments_lexer": "ipython3",
   "version": "3.10.0"
  }
 },
 "nbformat": 4,
 "nbformat_minor": 5
}
